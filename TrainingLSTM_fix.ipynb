{
  "nbformat": 4,
  "nbformat_minor": 0,
  "metadata": {
    "colab": {
      "provenance": [],
      "gpuType": "T4"
    },
    "kernelspec": {
      "name": "python3",
      "display_name": "Python 3"
    },
    "language_info": {
      "name": "python"
    },
    "accelerator": "GPU"
  },
  "cells": [
    {
      "cell_type": "code",
      "execution_count": null,
      "metadata": {
        "id": "wHVWuQ4byieo"
      },
      "outputs": [],
      "source": [
        "%env PYTHONPATH = # /env/python\n",
        "!wget https://repo.anaconda.com/miniconda/Miniconda3-py38_4.12.0-Linux-x86_64.sh\n",
        "!chmod +x Miniconda3-py38_4.12.0-Linux-x86_64.sh\n",
        "!./Miniconda3-py38_4.12.0-Linux-x86_64.sh -b -f -p /usr/local\n",
        "!conda update conda\n",
        "import sys\n",
        "sys.path.append('/usr/local/lib/python3.8/site-packages')\n",
        "!conda create -n myenv python=3.6\n"
      ]
    },
    {
      "cell_type": "code",
      "source": [
        "%%shell\n",
        "eval \"$(conda shell.bash hook)\"\n",
        "conda activate myenv\n",
        "git clone https://github.com/ml5js/training-charRNN\n",
        "pip install -r training-charRNN/requirements.txt\n",
        "wget https://raw.githubusercontent.com/emmevolpe/CO3104/refs/heads/main/alice.txt\n",
        "python3 training-charRNN/train.py --data_path alice.txt \\\n",
        "--rnn_size 128 \\\n",
        "--num_layers 2 \\\n",
        "--seq_length 50 \\\n",
        "--batch_size 50 \\\n",
        "--num_epochs 2 \\\n",
        "--save_checkpoints ./checkpoints \\\n",
        "--save_model ./models\n",
        "zip -r model.zip models/alice"
      ],
      "metadata": {
        "id": "6vokE3BvzJqe"
      },
      "execution_count": null,
      "outputs": []
    }
  ]
}